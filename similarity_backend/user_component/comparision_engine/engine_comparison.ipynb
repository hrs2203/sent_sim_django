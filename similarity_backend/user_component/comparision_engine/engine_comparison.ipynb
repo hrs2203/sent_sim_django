{
 "cells": [
  {
   "cell_type": "markdown",
   "metadata": {},
   "source": [
    "## Things to all in this md\n",
    "\n",
    "- [ ] Calling Comparison APIs\n",
    "- [ ] Test Set Data to compare apis\n",
    "- [ ] Select metrics that should me used to compare APIs\n",
    "- [ ] Create list of metrics and visualizatinos needed to make this a nice presentable Notebook."
   ]
  },
  {
   "cell_type": "code",
   "execution_count": 2,
   "metadata": {},
   "outputs": [],
   "source": [
    "from corpus_based.sent_sim import CorpusBasedComparision\n",
    "from sent_bert.sent_sim_bert import MultiSentenceBertComparision"
   ]
  },
  {
   "cell_type": "code",
   "execution_count": 3,
   "metadata": {},
   "outputs": [
    {
     "data": {
      "text/plain": [
       "0.20143834189646437"
      ]
     },
     "execution_count": 3,
     "metadata": {},
     "output_type": "execute_result"
    }
   ],
   "source": [
    "CorpusBasedComparision(\"nice day\", \"bad dog\")"
   ]
  },
  {
   "cell_type": "code",
   "execution_count": 4,
   "metadata": {},
   "outputs": [
    {
     "data": {
      "text/plain": [
       "[[0.7998412847518921, 0.691921591758728, 1.000000238418579, 0.135232076048851]]"
      ]
     },
     "execution_count": 4,
     "metadata": {},
     "output_type": "execute_result"
    }
   ],
   "source": [
    "MultiSentenceBertComparision([\"Nice Day\"],[\"Nice time\",\"good time\",\"Nice day\",\"bad dog\"])"
   ]
  },
  {
   "cell_type": "code",
   "execution_count": 5,
   "metadata": {},
   "outputs": [],
   "source": [
    "from data.read_tsv import read_file"
   ]
  },
  {
   "cell_type": "code",
   "execution_count": 6,
   "metadata": {},
   "outputs": [],
   "source": [
    "parsed_data = read_file(\"./data/sick_data.tsv\")"
   ]
  },
  {
   "cell_type": "code",
   "execution_count": 7,
   "metadata": {},
   "outputs": [],
   "source": [
    "# for i in range(1,10):\n",
    "#     s1, s2, ex = parsed_data[i][1],parsed_data[i][2], parsed_data[i][0]\n",
    "#     print( ex , \n",
    "#           CorpusBasedComparision(s1,s2)*5 ,\n",
    "#           float(MultiSentenceBertComparision([s1],[s2])[0][0])*5,\n",
    "#           s1, s2, \"\" , sep=\"\\n\")\n",
    "#     print()"
   ]
  },
  {
   "cell_type": "markdown",
   "metadata": {},
   "source": [
    "## list\n",
    "\n",
    "- accuacy, precision\n",
    "- error\n",
    "- deviation\n",
    "- r2 error\n",
    "- FP-TN ( DA COURSE LAST SLIDES )\n",
    "- biases ( corpus stats (word order ) )"
   ]
  },
  {
   "cell_type": "code",
   "execution_count": 8,
   "metadata": {},
   "outputs": [],
   "source": [
    "import numpy as np\n",
    "import time\n",
    "import matplotlib.pyplot as plt"
   ]
  },
  {
   "cell_type": "code",
   "execution_count": 9,
   "metadata": {},
   "outputs": [],
   "source": [
    "def MSE(result):\n",
    "    result = np.array([ (a-b)**2 for a,b in result])\n",
    "    return np.mean(result)"
   ]
  },
  {
   "cell_type": "code",
   "execution_count": 10,
   "metadata": {},
   "outputs": [],
   "source": [
    "def real_computed(res):\n",
    "    return [item[0] for item in res] , [item[1] for item in res]"
   ]
  },
  {
   "cell_type": "code",
   "execution_count": 11,
   "metadata": {},
   "outputs": [],
   "source": [
    "def std_dev(arr):\n",
    "    arr = np.array(arr)\n",
    "    return np.std(arr)"
   ]
  },
  {
   "cell_type": "markdown",
   "metadata": {},
   "source": [
    "## For Corpus Based Method"
   ]
  },
  {
   "cell_type": "code",
   "execution_count": 12,
   "metadata": {},
   "outputs": [
    {
     "name": "stdout",
     "output_type": "stream",
     "text": [
      "0.CPU times: user 1.02 s, sys: 36 ms, total: 1.05 s\n",
      "Wall time: 1.05 s\n"
     ]
    }
   ],
   "source": [
    "%%time\n",
    "results = []\n",
    "for ind , (comp, s1, s2) in enumerate(parsed_data[:5]):\n",
    "    if ind%10 == 0 : print(ind, end=\".\")\n",
    "    results.append([ float(comp)/5 , CorpusBasedComparision(s1,s2) ])"
   ]
  },
  {
   "cell_type": "code",
   "execution_count": 13,
   "metadata": {},
   "outputs": [
    {
     "data": {
      "text/plain": [
       "0.01660042162862302"
      ]
     },
     "execution_count": 13,
     "metadata": {},
     "output_type": "execute_result"
    }
   ],
   "source": [
    "MSE(results)"
   ]
  },
  {
   "cell_type": "code",
   "execution_count": 14,
   "metadata": {},
   "outputs": [],
   "source": [
    "real , computed = real_computed(results)"
   ]
  },
  {
   "cell_type": "code",
   "execution_count": 15,
   "metadata": {},
   "outputs": [
    {
     "name": "stdout",
     "output_type": "stream",
     "text": [
      "0.15512575543732257 0.17164461993635002\n"
     ]
    }
   ],
   "source": [
    "real_std , computed_std = std_dev(real) , std_dev(computed)\n",
    "print(real_std, computed_std)"
   ]
  },
  {
   "cell_type": "code",
   "execution_count": null,
   "metadata": {},
   "outputs": [],
   "source": []
  },
  {
   "cell_type": "code",
   "execution_count": 16,
   "metadata": {},
   "outputs": [],
   "source": [
    "## Spearman Rank Correlation"
   ]
  },
  {
   "cell_type": "code",
   "execution_count": null,
   "metadata": {},
   "outputs": [],
   "source": []
  },
  {
   "cell_type": "markdown",
   "metadata": {},
   "source": [
    "## For SentBERT"
   ]
  },
  {
   "cell_type": "code",
   "execution_count": 17,
   "metadata": {},
   "outputs": [
    {
     "name": "stdout",
     "output_type": "stream",
     "text": [
      "0.CPU times: user 837 ms, sys: 6.22 ms, total: 843 ms\n",
      "Wall time: 223 ms\n"
     ]
    }
   ],
   "source": [
    "%%time\n",
    "sentbert_results = []\n",
    "for ind , (comp, s1, s2) in enumerate(parsed_data[:5]):\n",
    "    if ind%10 == 0 : print(ind, end=\".\")\n",
    "    comp_val = MultiSentenceBertComparision( [ s1 ] , [s2] )[0][0]\n",
    "    sentbert_results.append([ float(comp)/5 , comp_val ])"
   ]
  },
  {
   "cell_type": "code",
   "execution_count": 18,
   "metadata": {},
   "outputs": [
    {
     "data": {
      "text/plain": [
       "0.014841505463223159"
      ]
     },
     "execution_count": 18,
     "metadata": {},
     "output_type": "execute_result"
    }
   ],
   "source": [
    "MSE(sentbert_results)"
   ]
  },
  {
   "cell_type": "code",
   "execution_count": 19,
   "metadata": {},
   "outputs": [],
   "source": [
    "real , computed = real_computed(sentbert_results)"
   ]
  },
  {
   "cell_type": "code",
   "execution_count": 20,
   "metadata": {},
   "outputs": [
    {
     "name": "stdout",
     "output_type": "stream",
     "text": [
      "0.15512575543732257 0.12486256609890857\n"
     ]
    }
   ],
   "source": [
    "real_std , computed_std = std_dev(real) , std_dev(computed)\n",
    "print(real_std, computed_std)"
   ]
  },
  {
   "cell_type": "code",
   "execution_count": 21,
   "metadata": {},
   "outputs": [],
   "source": [
    "## Spearman Rank Correlation"
   ]
  },
  {
   "cell_type": "code",
   "execution_count": null,
   "metadata": {},
   "outputs": [],
   "source": []
  },
  {
   "cell_type": "markdown",
   "metadata": {},
   "source": [
    "## Time and Accuracy analysis"
   ]
  },
  {
   "cell_type": "code",
   "execution_count": 37,
   "metadata": {},
   "outputs": [
    {
     "name": "stdout",
     "output_type": "stream",
     "text": [
      "---- for Corpuse Base Approach ------\n",
      "0.10.20.30.40.50.60.70.80.90.100.110.120.130.140.150.160.170.180.190.200.210.220.230.240.250.260.270.280.290.300.310.320.330.340.350.360.370.380.390.400.\n",
      "---- for SBERT Approach ------\n",
      "0.10.20.30.40.50.60.70.80.90.100.110.120.130.140.150.160.170.180.190.200.210.220.230.240.250.260.270.280.290.300.310.320.330.340.350.360.370.380.390.400."
     ]
    }
   ],
   "source": [
    "input_size = [10, 50, 100, 150, 200, 250, 300, 350, 400]\n",
    "MSE_for_corpus = []\n",
    "diff_in_std_for_corpus = []\n",
    "time_for_corpus = []\n",
    "time_for_SBERT = []\n",
    "MSE_for_SBERT = []\n",
    "diff_in_std_for_SBERT = []\n",
    "\n",
    "total_size = 402\n",
    "\n",
    "print(\"---- for Corpuse Base Approach ------\")\n",
    "\n",
    "time_start = time.time()\n",
    "corpus_results = []\n",
    "for ind , (comp, s1, s2) in enumerate(parsed_data[:total_size]):\n",
    "    if ind in input_size:\n",
    "        MSE_for_corpus.append( MSE(corpus_results) )\n",
    "        r,c = real_computed(corpus_results)\n",
    "        diff_in_std_for_corpus.append( abs( std_dev(r) - std_dev(c) ) )\n",
    "        time_for_corpus.append( time.time()-time_start )\n",
    "    if ind%10 == 0 : print(ind, end=\".\")\n",
    "    corpus_results.append([ float(comp)/5 , CorpusBasedComparision(s1,s2) ])\n",
    "    \n",
    "\n",
    "print(\"\\n---- for SBERT Approach ------\")\n",
    "\n",
    "time_start = time.time()\n",
    "corpus_results = []\n",
    "for ind , (comp, s1, s2) in enumerate(parsed_data[:total_size]):\n",
    "    if ind in input_size:\n",
    "        MSE_for_SBERT.append( MSE(corpus_results) )\n",
    "        r,c = real_computed(corpus_results)\n",
    "        diff_in_std_for_SBERT.append( abs( std_dev(r) - std_dev(c) ) )\n",
    "        time_for_SBERT.append( time.time()-time_start )\n",
    "    if ind%10 == 0 : print(ind, end=\".\")\n",
    "    comp_val = MultiSentenceBertComparision( [ s1 ] , [s2] )[0][0]\n",
    "    corpus_results.append([ float(comp)/5 , comp_val ])"
   ]
  },
  {
   "cell_type": "code",
   "execution_count": 44,
   "metadata": {},
   "outputs": [
    {
     "name": "stdout",
     "output_type": "stream",
     "text": [
      "for Corpuse Base Approach\n",
      "size: 10 , MSE: 0.025171167463397214, std_difference: 0.03943130026599653\n",
      "size: 50 , MSE: 0.06896495886997368, std_difference: 0.11784172937796134\n",
      "size: 100 , MSE: 0.0802712689244626, std_difference: 0.09333024566768078\n",
      "size: 150 , MSE: 0.07709368152607982, std_difference: 0.09325371032994093\n",
      "size: 200 , MSE: 0.0756698539453927, std_difference: 0.09980569465560588\n",
      "size: 250 , MSE: 0.07500765396291223, std_difference: 0.09725418304756808\n",
      "size: 300 , MSE: 0.07463817899710494, std_difference: 0.09521870523405318\n",
      "size: 350 , MSE: 0.07233800639556993, std_difference: 0.09537198077870879\n",
      "size: 400 , MSE: 0.0706958791563069, std_difference: 0.09339767409882291\n",
      "\n",
      "for SBERT Approach\n",
      "size: 10 , MSE: 0.01522744846084037, std_difference: 0.03663244141041691\n",
      "size: 50 , MSE: 0.039303290983828364, std_difference: 0.041588898812927017\n",
      "size: 100 , MSE: 0.04212659495373546, std_difference: 0.05099883906732905\n",
      "size: 150 , MSE: 0.04244268820065201, std_difference: 0.051019090129193784\n",
      "size: 200 , MSE: 0.03906294879647972, std_difference: 0.04084258922884515\n",
      "size: 250 , MSE: 0.03771575682281247, std_difference: 0.03978555963236868\n",
      "size: 300 , MSE: 0.03844183597574296, std_difference: 0.03827062275186627\n",
      "size: 350 , MSE: 0.03798835492661506, std_difference: 0.03581249027859462\n",
      "size: 400 , MSE: 0.03804137317781541, std_difference: 0.034501146164218954\n"
     ]
    }
   ],
   "source": [
    "size = len(input_size)\n",
    "\n",
    "print(\"for Corpuse Base Approach\")\n",
    "for i in range(size):\n",
    "    print(\"size: {} , MSE: {}, std_difference: {}\".format(\n",
    "        input_size[i] , MSE_for_corpus[i], diff_in_std_for_corpus[i]\n",
    "    ))\n",
    "\n",
    "print(\"\\nfor SBERT Approach\")\n",
    "for i in range(size):\n",
    "    print(\"size: {} , MSE: {}, std_difference: {}\".format(\n",
    "        input_size[i] , MSE_for_SBERT[i], diff_in_std_for_SBERT[i]\n",
    "    ))\n"
   ]
  },
  {
   "cell_type": "code",
   "execution_count": 38,
   "metadata": {},
   "outputs": [
    {
     "data": {
      "image/png": "[encoded data removed]",
      "text/plain": [
       "<Figure size 432x288 with 1 Axes>"
      ]
     },
     "metadata": {
      "needs_background": "light"
     },
     "output_type": "display_data"
    }
   ],
   "source": [
    "plt.plot( input_size , MSE_for_corpus,label=\"MSE_for_corpus\")\n",
    "plt.plot( input_size , MSE_for_SBERT ,label=\"MSE_for_SBERT\")\n",
    "plt.legend()\n",
    "plt.show()"
   ]
  },
  {
   "cell_type": "code",
   "execution_count": 39,
   "metadata": {},
   "outputs": [
    {
     "data": {
      "image/png": "[encoded data removed]",
      "text/plain": [
       "<Figure size 432x288 with 1 Axes>"
      ]
     },
     "metadata": {
      "needs_background": "light"
     },
     "output_type": "display_data"
    }
   ],
   "source": [
    "plt.plot( input_size , diff_in_std_for_corpus,label=\"diff_in_std_for_corpus\")\n",
    "plt.plot( input_size , diff_in_std_for_SBERT ,label=\"diff_in_std_for_SBERT\")\n",
    "plt.legend()\n",
    "plt.show()"
   ]
  },
  {
   "cell_type": "code",
   "execution_count": 40,
   "metadata": {},
   "outputs": [
    {
     "data": {
      "image/png": "[encoded data removed]",
      "text/plain": [
       "<Figure size 432x288 with 1 Axes>"
      ]
     },
     "metadata": {
      "needs_background": "light"
     },
     "output_type": "display_data"
    }
   ],
   "source": [
    "plt.plot( input_size , time_for_corpus,label=\"time_for_corpus\")\n",
    "plt.plot( input_size , time_for_SBERT ,label=\"time_for_SBERT\")\n",
    "plt.legend()\n",
    "plt.show()"
   ]
  },
  {
   "cell_type": "code",
   "execution_count": null,
   "metadata": {},
   "outputs": [],
   "source": []
  },
  {
   "cell_type": "code",
   "execution_count": null,
   "metadata": {},
   "outputs": [],
   "source": []
  }
 ],
 "metadata": {
  "kernelspec": {
   "display_name": "Python 3",
   "language": "python",
   "name": "python3"
  },
  "language_info": {
   "codemirror_mode": {
    "name": "ipython",
    "version": 3
   },
   "file_extension": ".py",
   "mimetype": "text/x-python",
   "name": "python",
   "nbconvert_exporter": "python",
   "pygments_lexer": "ipython3",
   "version": "3.6.9"
  }
 },
 "nbformat": 4,
 "nbformat_minor": 2
}
