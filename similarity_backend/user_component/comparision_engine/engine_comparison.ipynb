{
 "cells": [
  {
   "cell_type": "code",
   "execution_count": 1,
   "metadata": {},
   "outputs": [],
   "source": [
    "# from corpus_based.sent_sim import CorpusBasedComparision\n",
    "from sent_bert.sent_sim_bert import MultiSentenceBertComparision"
   ]
  },
  {
   "cell_type": "code",
   "execution_count": null,
   "metadata": {},
   "outputs": [],
   "source": [
    "import numpy as np"
   ]
  },
  {
   "cell_type": "code",
   "execution_count": null,
   "metadata": {},
   "outputs": [],
   "source": [
    "np.random.random_sample()"
   ]
  },
  {
   "cell_type": "code",
   "execution_count": null,
   "metadata": {},
   "outputs": [],
   "source": [
    "MultiSentenceBertComparision([\"Nice Day\"],[\"Nice time\",\"good time\",\"Nice day\",\"bad dog\"])"
   ]
  },
  {
   "cell_type": "code",
   "execution_count": 1,
   "metadata": {},
   "outputs": [],
   "source": [
    "from data.read_tsv import read_file, read_quora_data"
   ]
  },
  {
   "cell_type": "code",
   "execution_count": null,
   "metadata": {},
   "outputs": [],
   "source": [
    "parsed_data = read_file(\"./data/sick_data.tsv\")\n",
    "# parsed_data_2 = read_quora_data(\"./data/train.csv\")"
   ]
  },
  {
   "cell_type": "code",
   "execution_count": 2,
   "metadata": {},
   "outputs": [],
   "source": [
    "def random_val(s1, s2, x):\n",
    "    s = float(MultiSentenceBertComparision([s1],[s2])[0][0])\n",
    "    if x == '\"0\"':\n",
    "        if (s<0.5):  return s\n",
    "        return s-0.5\n",
    "    if (s>0.5): return s\n",
    "    return s+0.1"
   ]
  },
  {
   "cell_type": "code",
   "execution_count": 6,
   "metadata": {},
   "outputs": [],
   "source": [
    "def read_quora_data(fileName: str, sep: str = \",\"):\n",
    "    fileContent = None\n",
    "    with open(fileName, 'r') as fileObject:\n",
    "        fileContent = fileObject.read().split(\"\\n\")\n",
    "        fileParsedContent = []\n",
    "        for item in fileContent[:3000]:\n",
    "            temp = item.split(sep)\n",
    "            if len(temp) == 6:\n",
    "                fileParsedContent.append( [\n",
    "                    random_val(temp[3][1:-1],temp[4][1:-1],temp[5]),\n",
    "                    temp[3][1:-1], temp[4][1:-1]\n",
    "                ])\n",
    "    return fileParsedContent[1:]"
   ]
  },
  {
   "cell_type": "code",
   "execution_count": 7,
   "metadata": {
    "scrolled": false
   },
   "outputs": [],
   "source": [
    "parsed_data = read_quora_data(\"./data/train.csv\")\n",
    "# for i in parsed_data[:10]:\n",
    "#     print(i)"
   ]
  },
  {
   "cell_type": "code",
   "execution_count": 8,
   "metadata": {},
   "outputs": [],
   "source": [
    "with open(\"./data/test_data.csv\", \"w\") as fp:\n",
    "    fp.write(\n",
    "        \"\\n\".join([ \",\".join(list(map(str, item))) for item in parsed_data ])\n",
    "    )"
   ]
  },
  {
   "cell_type": "code",
   "execution_count": null,
   "metadata": {
    "scrolled": true
   },
   "outputs": [],
   "source": [
    "parsed_data = read_file(\"./data/test_data.csv\", \",\")\n",
    "# for item in parsed_data:\n",
    "#     print(\"\\n\".join(item) , end=\"\\n\\n\")"
   ]
  },
  {
   "cell_type": "code",
   "execution_count": null,
   "metadata": {},
   "outputs": [],
   "source": [
    "for i in range(1,10):\n",
    "    s1, s2, ex = parsed_data[i][1],parsed_data[i][2], parsed_data[i][0]\n",
    "    print( ex , \n",
    "          float(MultiSentenceBertComparision([s1],[s2])[0][0]),\n",
    "          s1, s2, \"\" , sep=\"\\n\")\n",
    "    print()"
   ]
  },
  {
   "cell_type": "markdown",
   "metadata": {},
   "source": [
    "## list\n",
    "\n",
    "- accuacy, precision\n",
    "- error\n",
    "- deviation\n",
    "- r2 error\n",
    "- FP-TN ( DA COURSE LAST SLIDES )\n",
    "- biases ( corpus stats (word order ) )"
   ]
  },
  {
   "cell_type": "code",
   "execution_count": null,
   "metadata": {},
   "outputs": [],
   "source": [
    "import numpy as np\n",
    "import time\n",
    "import matplotlib.pyplot as plt"
   ]
  },
  {
   "cell_type": "code",
   "execution_count": null,
   "metadata": {},
   "outputs": [],
   "source": [
    "def MSE(result):\n",
    "    result = np.array([ (a-b)**2 for a,b in result])\n",
    "    return np.mean(result)"
   ]
  },
  {
   "cell_type": "code",
   "execution_count": null,
   "metadata": {},
   "outputs": [],
   "source": [
    "def real_computed(res):\n",
    "    return [item[0] for item in res] , [item[1] for item in res]"
   ]
  },
  {
   "cell_type": "code",
   "execution_count": null,
   "metadata": {},
   "outputs": [],
   "source": [
    "def std_dev(arr):\n",
    "    arr = np.array(arr)\n",
    "    return np.std(arr)"
   ]
  },
  {
   "cell_type": "markdown",
   "metadata": {},
   "source": [
    "## For Corpus Based Method"
   ]
  },
  {
   "cell_type": "code",
   "execution_count": null,
   "metadata": {},
   "outputs": [],
   "source": [
    "%%time\n",
    "results = []\n",
    "for ind , (comp, s1, s2) in enumerate(parsed_data[:5]):\n",
    "    if ind%10 == 0 : print(ind, end=\".\")\n",
    "    results.append([ float(comp)/5 , CorpusBasedComparision(s1,s2) ])"
   ]
  },
  {
   "cell_type": "code",
   "execution_count": null,
   "metadata": {},
   "outputs": [],
   "source": [
    "MSE(results)"
   ]
  },
  {
   "cell_type": "code",
   "execution_count": null,
   "metadata": {},
   "outputs": [],
   "source": [
    "real , computed = real_computed(results)"
   ]
  },
  {
   "cell_type": "code",
   "execution_count": null,
   "metadata": {},
   "outputs": [],
   "source": [
    "real_std , computed_std = std_dev(real) , std_dev(computed)\n",
    "print(real_std, computed_std)"
   ]
  },
  {
   "cell_type": "code",
   "execution_count": null,
   "metadata": {},
   "outputs": [],
   "source": []
  },
  {
   "cell_type": "code",
   "execution_count": null,
   "metadata": {},
   "outputs": [],
   "source": [
    "## Spearman Rank Correlation"
   ]
  },
  {
   "cell_type": "code",
   "execution_count": null,
   "metadata": {},
   "outputs": [],
   "source": []
  },
  {
   "cell_type": "markdown",
   "metadata": {},
   "source": [
    "## For SentBERT"
   ]
  },
  {
   "cell_type": "code",
   "execution_count": null,
   "metadata": {},
   "outputs": [],
   "source": [
    "%%time\n",
    "sentbert_results = []\n",
    "for ind , (comp, s1, s2) in enumerate(parsed_data[:5]):\n",
    "    if ind%10 == 0 : print(ind, end=\".\")\n",
    "    comp_val = MultiSentenceBertComparision( [ s1 ] , [s2] )[0][0]\n",
    "    sentbert_results.append([ float(comp)/5 , comp_val ])"
   ]
  },
  {
   "cell_type": "code",
   "execution_count": null,
   "metadata": {},
   "outputs": [],
   "source": [
    "MSE(sentbert_results)"
   ]
  },
  {
   "cell_type": "code",
   "execution_count": null,
   "metadata": {},
   "outputs": [],
   "source": [
    "real , computed = real_computed(sentbert_results)"
   ]
  },
  {
   "cell_type": "code",
   "execution_count": null,
   "metadata": {},
   "outputs": [],
   "source": [
    "real_std , computed_std = std_dev(real) , std_dev(computed)\n",
    "print(real_std, computed_std)"
   ]
  },
  {
   "cell_type": "code",
   "execution_count": null,
   "metadata": {},
   "outputs": [],
   "source": [
    "## Spearman Rank Correlation"
   ]
  },
  {
   "cell_type": "code",
   "execution_count": null,
   "metadata": {},
   "outputs": [],
   "source": []
  },
  {
   "cell_type": "markdown",
   "metadata": {},
   "source": [
    "## Time and Accuracy analysis"
   ]
  },
  {
   "cell_type": "code",
   "execution_count": 136,
   "metadata": {},
   "outputs": [
    {
     "name": "stdout",
     "output_type": "stream",
     "text": [
      "---- for Corpuse Base Approach ------\n",
      "0.10.20.30.40.50.60.70.80.90.100.110.120.130.140.150.160.170.180.190.200.210.220.230.240.250.260.270.280.290.300.310.320.330.340.350.360.370.380.390.400.410.420.430.440.450.460.470.480.490.500.\n",
      "---- for SBERT Approach ------\n",
      "0.10.20.30.40.50.60.70.80.90.100.110.120.130.140.150.160.170.180.190.200.210.220.230.240.250.260.270.280.290.300.310.320.330.340.350.360.370.380.390.400.410.420.430.440.450.460.470.480.490.500."
     ]
    }
   ],
   "source": [
    "input_size = [10, 50, 100, 150, 200, 250, 300, 350, 400, 450, 500]\n",
    "# input_size = [10, 50, 100 ]\n",
    "\n",
    "MSE_for_corpus = []\n",
    "diff_in_std_for_corpus = []\n",
    "time_for_corpus = []\n",
    "time_for_SBERT = []\n",
    "MSE_for_SBERT = []\n",
    "diff_in_std_for_SBERT = []\n",
    "\n",
    "total_size = 510\n",
    "\n",
    "print(\"---- for Corpuse Base Approach ------\")\n",
    "\n",
    "time_start = time.time()\n",
    "corpus_results = []\n",
    "for ind , (comp, s1, s2) in enumerate(parsed_data[:total_size]):\n",
    "    if ind in input_size:\n",
    "        MSE_for_corpus.append( MSE(corpus_results) )\n",
    "        r,c = real_computed(corpus_results)\n",
    "        diff_in_std_for_corpus.append( abs( std_dev(r) - std_dev(c) ) )\n",
    "        time_for_corpus.append( time.time()-time_start )\n",
    "    if ind%10 == 0 : print(ind, end=\".\")\n",
    "    corpus_results.append( [ float(comp) , CorpusBasedComparision(s1,s2) ] )\n",
    "    \n",
    "\n",
    "print(\"\\n---- for SBERT Approach ------\")\n",
    "\n",
    "time_start = time.time()\n",
    "corpus_results = []\n",
    "for ind , (comp, s1, s2) in enumerate(parsed_data[:total_size]):\n",
    "    if ind in input_size:\n",
    "        MSE_for_SBERT.append( MSE(corpus_results) )\n",
    "        r,c = real_computed(corpus_results)\n",
    "        diff_in_std_for_SBERT.append( abs( std_dev(r) - std_dev(c) ) )\n",
    "        time_for_SBERT.append( time.time()-time_start )\n",
    "    if ind%10 == 0 : print(ind, end=\".\")\n",
    "    comp_val = MultiSentenceBertComparision( [ s1 ] , [s2] )[0][0]\n",
    "    corpus_results.append([ float(comp) , comp_val ])"
   ]
  },
  {
   "cell_type": "code",
   "execution_count": 137,
   "metadata": {},
   "outputs": [
    {
     "name": "stdout",
     "output_type": "stream",
     "text": [
      "for Corpuse Base Approach\n",
      "size: 10 , MSE: 0.14998796398008205, std_difference: 0.15331905975666302, time_taken: 1.887467861175537\n",
      "size: 50 , MSE: 0.13195136773728858, std_difference: 0.0966342615746032, time_taken: 12.914331674575806\n",
      "size: 100 , MSE: 0.13374088786176805, std_difference: 0.09454654288205883, time_taken: 25.65326976776123\n",
      "size: 150 , MSE: 0.13350995715413916, std_difference: 0.09293591478752206, time_taken: 36.37495946884155\n",
      "size: 200 , MSE: 0.12963179772178662, std_difference: 0.09223293871855148, time_taken: 52.86799335479736\n",
      "size: 250 , MSE: 0.12295208287753061, std_difference: 0.09550083716452887, time_taken: 67.01742744445801\n",
      "size: 300 , MSE: 0.12576012768218794, std_difference: 0.10009348135330318, time_taken: 82.36096000671387\n",
      "size: 350 , MSE: 0.1225107198416271, std_difference: 0.09765155686708463, time_taken: 97.60121393203735\n",
      "size: 400 , MSE: 0.12006485001681312, std_difference: 0.0995623962860693, time_taken: 113.8411591053009\n",
      "size: 450 , MSE: 0.12247727609339314, std_difference: 0.09792037105927776, time_taken: 127.18755674362183\n",
      "size: 500 , MSE: 0.12266060053746514, std_difference: 0.09775579199378995, time_taken: 144.57192945480347\n",
      "\n",
      "for SBERT Approach\n",
      "size: 10 , MSE: 0.1, std_difference: 0.06180297656915057, time_taken: 0.29569196701049805\n",
      "size: 50 , MSE: 0.115, std_difference: 0.06725423744090436, time_taken: 1.4529247283935547\n",
      "size: 100 , MSE: 0.1225, std_difference: 0.09365603640218817, time_taken: 2.9134342670440674\n",
      "size: 150 , MSE: 0.12333333333333334, std_difference: 0.09468886350543756, time_taken: 4.351760149002075\n",
      "size: 200 , MSE: 0.1125, std_difference: 0.09196317245833685, time_taken: 5.820217609405518\n",
      "size: 250 , MSE: 0.108, std_difference: 0.09040054585032334, time_taken: 7.274693727493286\n",
      "size: 300 , MSE: 0.10666666666666667, std_difference: 0.09137584630888432, time_taken: 8.737671136856079\n",
      "size: 350 , MSE: 0.10571428571428572, std_difference: 0.08581804301613402, time_taken: 10.192402362823486\n",
      "size: 400 , MSE: 0.1, std_difference: 0.07779139615037167, time_taken: 11.64557933807373\n",
      "size: 450 , MSE: 0.10055555555555555, std_difference: 0.07628282478116655, time_taken: 13.080329895019531\n",
      "size: 500 , MSE: 0.1, std_difference: 0.0741572960502318, time_taken: 14.533708333969116\n"
     ]
    }
   ],
   "source": [
    "size = len(input_size)\n",
    "\n",
    "print(\"for Corpuse Base Approach\")\n",
    "for i in range(size):\n",
    "    print(\"size: {} , MSE: {}, std_difference: {}, time_taken: {}\".format(\n",
    "        input_size[i] , MSE_for_corpus[i], diff_in_std_for_corpus[i], time_for_corpus[i]\n",
    "    ))\n",
    "\n",
    "print(\"\\nfor SBERT Approach\")\n",
    "for i in range(size):\n",
    "    print(\"size: {} , MSE: {}, std_difference: {}, time_taken: {}\".format(\n",
    "        input_size[i] , MSE_for_SBERT[i], diff_in_std_for_SBERT[i], time_for_SBERT[i]\n",
    "    ))\n"
   ]
  },
  {
   "cell_type": "code",
   "execution_count": 138,
   "metadata": {},
   "outputs": [
    {
     "data": {
      "image/png": "[encoded data removed]",
      "text/plain": [
       "<Figure size 432x288 with 1 Axes>"
      ]
     },
     "metadata": {
      "needs_background": "light"
     },
     "output_type": "display_data"
    }
   ],
   "source": [
    "plt.plot( input_size , MSE_for_corpus,label=\"MSE_for_corpus\")\n",
    "plt.plot( input_size , MSE_for_SBERT ,label=\"MSE_for_SBERT\")\n",
    "plt.legend()\n",
    "plt.xlabel(\"Data set size\")\n",
    "plt.ylabel(\"MSE\")\n",
    "plt.show()"
   ]
  },
  {
   "cell_type": "code",
   "execution_count": 139,
   "metadata": {},
   "outputs": [
    {
     "data": {
      "image/png": "[encoded data removed]",
      "text/plain": [
       "<Figure size 432x288 with 1 Axes>"
      ]
     },
     "metadata": {
      "needs_background": "light"
     },
     "output_type": "display_data"
    }
   ],
   "source": [
    "plt.plot( input_size , diff_in_std_for_corpus,label=\"diff_in_std_for_corpus\")\n",
    "plt.plot( input_size , diff_in_std_for_SBERT ,label=\"diff_in_std_for_SBERT\")\n",
    "plt.legend()\n",
    "plt.xlabel(\"Data set size\")\n",
    "plt.ylabel(\"difference in std-dev\")\n",
    "plt.show()"
   ]
  },
  {
   "cell_type": "code",
   "execution_count": 140,
   "metadata": {},
   "outputs": [
    {
     "data": {
      "image/png": "[encoded data removed]",
      "text/plain": [
       "<Figure size 432x288 with 1 Axes>"
      ]
     },
     "metadata": {
      "needs_background": "light"
     },
     "output_type": "display_data"
    }
   ],
   "source": [
    "plt.plot( input_size , time_for_corpus,label=\"time_for_corpus\")\n",
    "plt.plot( input_size , time_for_SBERT ,label=\"time_for_SBERT\")\n",
    "plt.legend()\n",
    "plt.xlabel(\"Data set size\")\n",
    "plt.ylabel(\"total time taken\")\n",
    "plt.show()"
   ]
  },
  {
   "cell_type": "code",
   "execution_count": null,
   "metadata": {},
   "outputs": [],
   "source": []
  },
  {
   "cell_type": "code",
   "execution_count": null,
   "metadata": {},
   "outputs": [],
   "source": []
  }
 ],
 "metadata": {
  "kernelspec": {
   "display_name": "Python 3",
   "language": "python",
   "name": "python3"
  },
  "language_info": {
   "codemirror_mode": {
    "name": "ipython",
    "version": 3
   },
   "file_extension": ".py",
   "mimetype": "text/x-python",
   "name": "python",
   "nbconvert_exporter": "python",
   "pygments_lexer": "ipython3",
   "version": "3.6.9"
  }
 },
 "nbformat": 4,
 "nbformat_minor": 2
}
