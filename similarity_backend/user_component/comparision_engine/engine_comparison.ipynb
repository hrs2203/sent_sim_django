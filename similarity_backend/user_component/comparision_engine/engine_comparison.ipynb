{
 "cells": [
  {
   "cell_type": "markdown",
   "metadata": {},
   "source": [
    "## Things to all in this md\n",
    "\n",
    "- [ ] Calling Comparison APIs\n",
    "- [ ] Test Set Data to compare apis\n",
    "- [ ] Select metrics that should me used to compare APIs\n",
    "- [ ] Create list of metrics and visualizatinos needed to make this a nice presentable Notebook."
   ]
  },
  {
   "cell_type": "code",
   "execution_count": 1,
   "metadata": {},
   "outputs": [],
   "source": [
    "from corpus_based.sent_sim import CorpusBasedComparision\n",
    "from sent_bert.sent_sim_bert import MultiSentenceBertComparision"
   ]
  },
  {
   "cell_type": "code",
   "execution_count": 2,
   "metadata": {},
   "outputs": [
    {
     "data": {
      "text/plain": [
       "0.20143834189646437"
      ]
     },
     "execution_count": 2,
     "metadata": {},
     "output_type": "execute_result"
    }
   ],
   "source": [
    "CorpusBasedComparision(\"nice day\", \"bad dog\")"
   ]
  },
  {
   "cell_type": "code",
   "execution_count": 3,
   "metadata": {},
   "outputs": [
    {
     "data": {
      "text/plain": [
       "tensor([[0.7998, 0.6919, 1.0000, 0.1352]])"
      ]
     },
     "execution_count": 3,
     "metadata": {},
     "output_type": "execute_result"
    }
   ],
   "source": [
    "MultiSentenceBertComparision([\"Nice Day\"],[\"Nice time\",\"good time\",\"Nice day\",\"bad dog\"])"
   ]
  },
  {
   "cell_type": "code",
   "execution_count": 13,
   "metadata": {},
   "outputs": [],
   "source": [
    "from data.read_tsv import read_file"
   ]
  },
  {
   "cell_type": "code",
   "execution_count": 41,
   "metadata": {},
   "outputs": [],
   "source": [
    "parsed_data = read_file(\"./data/sick_data.tsv\")"
   ]
  },
  {
   "cell_type": "code",
   "execution_count": 44,
   "metadata": {},
   "outputs": [
    {
     "name": "stdout",
     "output_type": "stream",
     "text": [
      "4.4\n",
      "4.690371912294329\n",
      "4.524145424365997\n",
      "SC dismisses govt's review plea in Vodafone tax case\n",
      "SC dismisses govt's review petition on Vodafone tax verdict\n",
      "\n",
      "\n",
      "2.6\n",
      "2.825589797309209\n",
      "3.379615545272827\n",
      "Explosion hits oil pipeline in Syria's Homs\n",
      "Explosion hits pipeline as Assad attacks cities\n",
      "\n",
      "\n",
      "3.8\n",
      "2.4418354596831606\n",
      "4.573043882846832\n",
      "NATO Soldier Killed In Afghan Attack\n",
      "NATO soldier killed in S. Afghanistan\n",
      "\n",
      "\n",
      "4.2\n",
      "3.879978199630138\n",
      "4.657001197338104\n",
      "Castro celebrates 86th birthday Monday\n",
      "Fidel Castro celebrates 86th birthday\n",
      "\n",
      "\n",
      "3\n",
      "2.2563983924499404\n",
      "2.904941439628601\n",
      "Israel ex-spy warns against 'messianic' Iran war\n",
      "Israeli ex-spy boss: no trust in leadership over Iran – video\n",
      "\n",
      "\n",
      "3.8\n",
      "4.3865897286288185\n",
      "3.937733769416809\n",
      "Eye Opener: Supreme Court rules on Arizona immigration law\n",
      "U.S. Supreme Court issues split ruling on Arizona immigration law\n",
      "\n",
      "\n",
      "3.2\n",
      "3.3313505594046386\n",
      "3.0571824312210083\n",
      "NATO traces path out of Afghanistan\n",
      "NATO Leaders Commit to Afghanistan Transition\n",
      "\n",
      "\n",
      "4\n",
      "3.1070439955801836\n",
      "4.469501376152039\n",
      "Syria says suicide bomber kills 10 in Damascus\n",
      "Damascus 'suicide bombing' kills 10\n",
      "\n",
      "\n",
      "0.8\n",
      "2.384514575080148\n",
      "2.097242772579193\n",
      "Sachin Tendulkar says I'm not God, I'm Sachin\n",
      "Sachin Tendulkar scores cricket's first 100th century\n",
      "\n",
      "\n"
     ]
    }
   ],
   "source": [
    "for i in range(1,10):\n",
    "    s1, s2, ex = parsed_data[i][1],parsed_data[i][2], parsed_data[i][0]\n",
    "    print( ex , \n",
    "          CorpusBasedComparision(s1,s2)*5 ,\n",
    "          float(MultiSentenceBertComparision([s1],[s2])[0][0])*5,\n",
    "          s1, s2, \"\" , sep=\"\\n\")\n",
    "    print()\n",
    "    "
   ]
  },
  {
   "cell_type": "markdown",
   "metadata": {},
   "source": [
    "## list\n",
    "\n",
    "- accuacy, precision\n",
    "- error\n",
    "- deviation\n",
    "- r2 error\n",
    "- FP-TN ( DA COURSE LAST SLIDES )\n",
    "- biases ( corpus stats (word order ) )"
   ]
  },
  {
   "cell_type": "code",
   "execution_count": null,
   "metadata": {},
   "outputs": [],
   "source": []
  }
 ],
 "metadata": {
  "kernelspec": {
   "display_name": "Python 3",
   "language": "python",
   "name": "python3"
  },
  "language_info": {
   "codemirror_mode": {
    "name": "ipython",
    "version": 3
   },
   "file_extension": ".py",
   "mimetype": "text/x-python",
   "name": "python",
   "nbconvert_exporter": "python",
   "pygments_lexer": "ipython3",
   "version": "3.6.9"
  }
 },
 "nbformat": 4,
 "nbformat_minor": 2
}
